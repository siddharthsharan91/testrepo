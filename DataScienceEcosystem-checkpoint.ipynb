{
 "cells": [
  {
   "cell_type": "markdown",
   "id": "a00432cf-e83c-4441-8ea8-4dbdd2dd26f6",
   "metadata": {},
   "source": [
    "# Data Science Tools and Ecosystem\n",
    "In this notebook, Data Science Tools and Ecosystem are summarized.\n",
    "\n",
    "Course Takeaways: \n",
    "- Data science is supported with many open source tools and platforms\n",
    "- These tools and platforms were identified in the course\n",
    "- Importance of Python and R was discussed. \n",
    "- Importance of version controlled repositories, e.g. Github was discussed\n",
    "\n"
   ]
  },
  {
   "cell_type": "markdown",
   "id": "e7b7e987-1ade-4463-a590-72be7282240c",
   "metadata": {},
   "source": [
    "Some of the popular languages that Data Scientists use are:\n",
    "1. Python \n",
    "2. R \n",
    "3. C++\n",
    "\n",
    "Some of the commonly used libraries used by Data Scientists include:\n",
    "- Matplotlib\n",
    "- Seaborn\n",
    "- Sci-kit Learn\n",
    "- Keras\n",
    "- Tensorflow\n",
    "- Pytouch\n",
    "\n",
    "|Data Science Tools|\n",
    "|------------------|\n",
    "|Jupyter Notebook|\n",
    "|R-Studio|\n",
    "|Apache Spark|\n",
    "\n",
    "### Below are a few examples of evaluating arithmetic expressions in Python."
   ]
  },
  {
   "cell_type": "code",
   "execution_count": 9,
   "id": "2c7a436f-4353-4d38-a66d-924bea3ef442",
   "metadata": {},
   "outputs": [
    {
     "data": {
      "text/plain": [
       "17"
      ]
     },
     "execution_count": 9,
     "metadata": {},
     "output_type": "execute_result"
    }
   ],
   "source": [
    "# This a simple arithmetic expression to mutiply then add integers\n",
    "(3*4)+5"
   ]
  },
  {
   "cell_type": "code",
   "execution_count": 15,
   "id": "4a2e811f-534d-4b9c-9258-8b5833946d6a",
   "metadata": {},
   "outputs": [
    {
     "name": "stdout",
     "output_type": "stream",
     "text": [
      "200\n",
      "3.3333333333333335\n"
     ]
    }
   ],
   "source": [
    "#  This will convert 200 minutes to hours by diving by 60\n",
    "time_min = 200\n",
    "time_hours = time_min/60\n",
    "print (time_min)\n",
    "print(time_hours)"
   ]
  },
  {
   "cell_type": "markdown",
   "id": "a0a8dff7-7b90-44f2-a684-fcf7b0bde15a",
   "metadata": {},
   "source": [
    "## Author\n",
    "Siddharth Sharan"
   ]
  },
  {
   "cell_type": "code",
   "execution_count": null,
   "id": "600f23e1-8d8a-456f-81da-5519359cafa0",
   "metadata": {},
   "outputs": [],
   "source": []
  }
 ],
 "metadata": {
  "kernelspec": {
   "display_name": "Python 3 (ipykernel)",
   "language": "python",
   "name": "python3"
  },
  "language_info": {
   "codemirror_mode": {
    "name": "ipython",
    "version": 3
   },
   "file_extension": ".py",
   "mimetype": "text/x-python",
   "name": "python",
   "nbconvert_exporter": "python",
   "pygments_lexer": "ipython3",
   "version": "3.11.9"
  }
 },
 "nbformat": 4,
 "nbformat_minor": 5
}
